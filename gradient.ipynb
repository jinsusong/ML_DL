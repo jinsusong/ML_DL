{
  "nbformat": 4,
  "nbformat_minor": 0,
  "metadata": {
    "colab": {
      "private_outputs": true,
      "provenance": [],
      "authorship_tag": "ABX9TyOpn2VN2hZrMhw4z+gJMIFI",
      "include_colab_link": true
    },
    "kernelspec": {
      "name": "python3",
      "display_name": "Python 3"
    },
    "language_info": {
      "name": "python"
    }
  },
  "cells": [
    {
      "cell_type": "markdown",
      "metadata": {
        "id": "view-in-github",
        "colab_type": "text"
      },
      "source": [
        "<a href=\"https://colab.research.google.com/github/jinsusong/ML_DL/blob/main/gradient.ipynb\" target=\"_parent\"><img src=\"https://colab.research.google.com/assets/colab-badge.svg\" alt=\"Open In Colab\"/></a>"
      ]
    },
    {
      "cell_type": "markdown",
      "source": [
        "- 업데이트할 W : Learning Rate * ((Y예측 - Y실제) * X) 평균\n",
        "- 업데이트할 b : Learning Rate * ((Y예측 - Y실제) * 1) 평균"
      ],
      "metadata": {
        "id": "uOO6v39HC9Ge"
      }
    },
    {
      "cell_type": "code",
      "source": [
        "import numpy as np \n",
        "import matplotlib.pyplot as plt \n"
      ],
      "metadata": {
        "id": "j_9pOKWfDNPN"
      },
      "execution_count": null,
      "outputs": []
    },
    {
      "cell_type": "code",
      "source": [
        "X = np.random.rand(100)\n",
        "X"
      ],
      "metadata": {
        "id": "enkylL4cDS5F"
      },
      "execution_count": null,
      "outputs": []
    },
    {
      "cell_type": "code",
      "source": [
        "# 임의의 선형 함수식 Y 정의\n",
        "# w : 0.2\n",
        "# b : 0.5\n",
        "Y = 0.2 * X * 0.5\n",
        "Y"
      ],
      "metadata": {
        "id": "l3bIGZqvDVP8"
      },
      "execution_count": null,
      "outputs": []
    },
    {
      "cell_type": "code",
      "source": [
        " # 선형 함수가 만들어진 것을 확인할 수 있음. \n",
        " plt.figure(figsize=(8,6))\n",
        " plt.scatter(X,Y)\n",
        " plt.show()"
      ],
      "metadata": {
        "id": "2447muJrDVrk"
      },
      "execution_count": null,
      "outputs": []
    },
    {
      "cell_type": "code",
      "source": [
        "# W를 업데이트 하면서 선형 함수식에 근접하는 식을 예측하는지 만들어 봄\n",
        "# 시각화를 위해서 함수 정의 \n",
        "def plot_prediction(pred, y):\n",
        "    plt.figure(figsize=(8,6))\n",
        "    plt.scatter(X,y)\n",
        "    plt.scatter(X,pred)\n",
        "    plt.show()\n"
      ],
      "metadata": {
        "id": "YK2ohlISDySt"
      },
      "execution_count": null,
      "outputs": []
    },
    {
      "cell_type": "markdown",
      "source": [
        "## Gradient Descent 구현 "
      ],
      "metadata": {
        "id": "S3wo1By1EUCM"
      }
    },
    {
      "cell_type": "code",
      "source": [
        "# W 값을 랜덤하게 셋팅 , 초기값은 -1 ~ 1 사이의 값을 가지게 함.\n",
        "W = np.random.uniform(-1,1)\n",
        "b = np.random.uniform(-1,1)\n",
        "\n",
        "# Leaning Rate 적용\n",
        "# 업데이트할 W : Learning Rate * ((Y예측 - Y실제) * X) 평균\n",
        "# 업데이트할 b : Learning Rate * ((Y예측 - Y실제) * 1) 평균\n",
        "\n",
        "learning_rate = 0.7\n",
        "\n",
        "# epoch 를 100번 정도 돌릴 예정 \n",
        "for epoch in range(100):\n",
        "    # 예측값 \n",
        "    Y_Pred = W * X + b \n",
        "\n",
        "    # 오차 계산 \n",
        "    # 절대값 (예측값 - 실제값) 평균\n",
        "    # 에러가 어느정도 이하이면 break 걸고 종료 \n",
        "    error = np.abs(Y_Pred - Y).mean()\n",
        "    if error < 0.001:\n",
        "        break\n",
        "    \n",
        "\n",
        "    # gradient descent 계산 \n",
        "    w_grad = learning_rate * ((Y_Pred - Y ) * X).mean()\n",
        "    b_grad = learning_rate * (Y_Pred - Y).mean()\n",
        "\n",
        "    # W, b 갱신\n",
        "    # grad 는 우리가 움직여야 할 방향과 얼마만큼 움직일지 지정\n",
        "    # w원래 W 에서 W_grad를 뺀 값을 다시 W로 지정 \n",
        "    W = W - w_grad\n",
        "    b = b - b_grad\n",
        "\n",
        "    if epoch % 5 == 0 : \n",
        "        Y_pred = W * X + b_grad\n",
        "        plot_prediction(Y_Pred, Y)\n",
        "\n",
        "\n",
        "\n",
        "\n"
      ],
      "metadata": {
        "id": "3YrAHjIKEan1"
      },
      "execution_count": null,
      "outputs": []
    },
    {
      "cell_type": "code",
      "source": [],
      "metadata": {
        "id": "OJqD4MFLGGNc"
      },
      "execution_count": null,
      "outputs": []
    }
  ]
}