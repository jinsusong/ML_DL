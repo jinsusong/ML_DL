{
  "nbformat": 4,
  "nbformat_minor": 0,
  "metadata": {
    "colab": {
      "name": "ML 종류.ipynb",
      "private_outputs": true,
      "provenance": [],
      "authorship_tag": "ABX9TyM8C88qOiClpj1/L7rCF0Py",
      "include_colab_link": true
    },
    "kernelspec": {
      "name": "python3",
      "display_name": "Python 3"
    },
    "language_info": {
      "name": "python"
    }
  },
  "cells": [
    {
      "cell_type": "markdown",
      "metadata": {
        "id": "view-in-github",
        "colab_type": "text"
      },
      "source": [
        "<a href=\"https://colab.research.google.com/github/jinsusong/ML_DL/blob/main/ML_%EC%A2%85%EB%A5%98.ipynb\" target=\"_parent\"><img src=\"https://colab.research.google.com/assets/colab-badge.svg\" alt=\"Open In Colab\"/></a>"
      ]
    },
    {
      "cell_type": "markdown",
      "source": [
        "# Machine Learning"
      ],
      "metadata": {
        "id": "9OgRrMZbBUHU"
      }
    },
    {
      "cell_type": "markdown",
      "source": [
        "# Unsupervised Learning"
      ],
      "metadata": {
        "id": "CVwuEIujBgSa"
      }
    },
    {
      "cell_type": "markdown",
      "source": [
        "### Clustering\n",
        "1. K-Means\n",
        "2. Mean Shift\n",
        "3. K-Medoids\n"
      ],
      "metadata": {
        "id": "Rj7brMRTBwtr"
      }
    },
    {
      "cell_type": "markdown",
      "source": [
        "### Dimensionality Reduction\n",
        "1. Principal Component Analysis(PCA)\n",
        "2. Feature Selection\n",
        "3. Linear Discriminant Analysis(LDA)"
      ],
      "metadata": {
        "id": "SmenU5XOB5F7"
      }
    },
    {
      "cell_type": "markdown",
      "source": [
        "# Supervised Learning"
      ],
      "metadata": {
        "id": "wgcNdfEXBjaJ"
      }
    },
    {
      "cell_type": "markdown",
      "source": [
        "### Regression\n",
        "1. Decision Tree\n",
        "2. Linear Regression\n",
        "3. Logistic Regression\n"
      ],
      "metadata": {
        "id": "7Zy7f5xxCPwP"
      }
    },
    {
      "cell_type": "markdown",
      "source": [
        "### Classification\n",
        "1. Navie Bayes\n",
        "2. SVM\n",
        "3. K-Nearest Neighbor"
      ],
      "metadata": {
        "id": "A5IUtZGmCWi2"
      }
    },
    {
      "cell_type": "markdown",
      "source": [
        "## Reinforcement Learning\n"
      ],
      "metadata": {
        "id": "Tfp9lSqBBlUx"
      }
    },
    {
      "cell_type": "code",
      "source": [
        ""
      ],
      "metadata": {
        "id": "ii4Fj-G2BiY6"
      },
      "execution_count": null,
      "outputs": []
    }
  ]
}