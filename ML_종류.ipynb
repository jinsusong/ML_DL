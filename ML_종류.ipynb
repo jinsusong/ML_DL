{
  "nbformat": 4,
  "nbformat_minor": 0,
  "metadata": {
    "colab": {
      "name": "ML 종류.ipynb",
      "private_outputs": true,
      "provenance": [],
      "authorship_tag": "ABX9TyMsoGLvkYeDrEdLvYs6HtQy",
      "include_colab_link": true
    },
    "kernelspec": {
      "name": "python3",
      "display_name": "Python 3"
    },
    "language_info": {
      "name": "python"
    }
  },
  "cells": [
    {
      "cell_type": "markdown",
      "metadata": {
        "id": "view-in-github",
        "colab_type": "text"
      },
      "source": [
        "<a href=\"https://colab.research.google.com/github/jinsusong/ML_DL/blob/main/ML_%EC%A2%85%EB%A5%98.ipynb\" target=\"_parent\"><img src=\"https://colab.research.google.com/assets/colab-badge.svg\" alt=\"Open In Colab\"/></a>"
      ]
    },
    {
      "cell_type": "markdown",
      "source": [
        "# Machine Learning\n",
        " - 데이터 학습을 통해 자동으로 개선 하는 알고리즘. \n",
        " - 인간의 사고를 효율적인 계산의 관점에서 보고 모방하는 알고리즘을 말함."
      ],
      "metadata": {
        "id": "9OgRrMZbBUHU"
      }
    },
    {
      "cell_type": "markdown",
      "source": [
        "# Unsupervised Learning ( 탐험적 )\n",
        "- 비지도 학습은 레이블이 지정된 출력을 사용하지 않습니다.\n",
        "- 목표는 데이터 세트의 자연 구조를 추론\n",
        "- 데이터의 성격을 파악하는 것 "
      ],
      "metadata": {
        "id": "CVwuEIujBgSa"
      }
    },
    {
      "cell_type": "markdown",
      "source": [
        "### Clustering(군집화) : 비슷한 것들을 찾아서 그룹을 만드는 것 \n",
        "1. K-Means(k-평균 알고리즘) : \n",
        "    - 비슷한 특성을 지닌 데이터들끼리 묶어 K개의 군집으로 군집화하는 대표적인 군집화 기법\n",
        "\n",
        "2. Mean Shift : \n",
        "    - K-평균과 유사하게 중심을 군집의 중심으로 지속적으로 움직이면서 군집화를 수행, Mean Shift는 중심을 데이터가 모여 있는 밀도가 가장 높은 곳으로 이동\n",
        "\n",
        "3. K-Medoids(k-중앙자 알고리즘) : \n",
        "    - 군집화 중심점 업데이트를 위해 평균값을 사용하기 때문에 이상치에 영향을 받는 K-means의 단점을 보완하기 위해 평균값이 아닌 중간값을 활용한 K-medoids 알고리즘\n"
      ],
      "metadata": {
        "id": "Rj7brMRTBwtr"
      }
    },
    {
      "cell_type": "markdown",
      "source": [
        "### Dimensionality Reduction (차원 축소)\n",
        "1. Principal Component Analysis(PCA 주성분 분석)\n",
        "2. Feature Selection\n",
        "3. Linear Discriminant Analysis(LDA 선형 판별 분석)"
      ],
      "metadata": {
        "id": "SmenU5XOB5F7"
      }
    },
    {
      "cell_type": "markdown",
      "source": [
        "### Association rule learning(연관 규칙 학습) : 장바구니 연관 상품 추천 알고리즘, 특성을 그룹화 하는 것 \n",
        "1. \n",
        "2. \n",
        "3. "
      ],
      "metadata": {
        "id": "iFj4U5at2u67"
      }
    },
    {
      "cell_type": "markdown",
      "source": [
        "# Supervised Learning ( 역사적 )\n",
        "- 지도 학습 에는 레이블이 지정된 데이터 훈련이 필요\n",
        "- 목표는 입력과 출력 간의 관계를 근사화하는 함수를 학습"
      ],
      "metadata": {
        "id": "wgcNdfEXBjaJ"
      }
    },
    {
      "cell_type": "markdown",
      "source": [
        "### Regression(회귀) : 예측하고 싶은 결과가 숫자일 때 사용\n",
        "1. Decision Tree (의사 결정 트리)\n",
        "2. Linear Regression (선형 회귀)\n",
        "3. Logistic Regression (로지스틱 회귀)\n"
      ],
      "metadata": {
        "id": "7Zy7f5xxCPwP"
      }
    },
    {
      "cell_type": "markdown",
      "source": [
        "### Classification(분류) : 성격에 맞는 이름으로 그룹핑 하는 것\n",
        "1. Navie Bayes (나이브 베이즈)\n",
        "2. SVM(서포트 벡터 머신)\n",
        "3. K-Nearest Neighbor(k-최근접 이웃 알고리즘)"
      ],
      "metadata": {
        "id": "A5IUtZGmCWi2"
      }
    },
    {
      "cell_type": "markdown",
      "source": [
        "# Reinforcement Learning ( 경험적 ) \n"
      ],
      "metadata": {
        "id": "Tfp9lSqBBlUx"
      }
    },
    {
      "cell_type": "code",
      "source": [
        ""
      ],
      "metadata": {
        "id": "ii4Fj-G2BiY6"
      },
      "execution_count": null,
      "outputs": []
    }
  ]
}