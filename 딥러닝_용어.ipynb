{
  "nbformat": 4,
  "nbformat_minor": 0,
  "metadata": {
    "colab": {
      "name": "딥러닝 용어.ipynb",
      "private_outputs": true,
      "provenance": [],
      "authorship_tag": "ABX9TyPbnlkJGJ2AADb7Df7ZuMMn",
      "include_colab_link": true
    },
    "kernelspec": {
      "name": "python3",
      "display_name": "Python 3"
    },
    "language_info": {
      "name": "python"
    }
  },
  "cells": [
    {
      "cell_type": "markdown",
      "metadata": {
        "id": "view-in-github",
        "colab_type": "text"
      },
      "source": [
        "<a href=\"https://colab.research.google.com/github/jinsusong/ML_DL/blob/main/%EB%94%A5%EB%9F%AC%EB%8B%9D_%EC%9A%A9%EC%96%B4.ipynb\" target=\"_parent\"><img src=\"https://colab.research.google.com/assets/colab-badge.svg\" alt=\"Open In Colab\"/></a>"
      ]
    },
    {
      "cell_type": "markdown",
      "source": [
        "###딥러닝 용어 \n",
        "\n",
        "- 활성화 함수 : 신경망의 뉴런들을 선형 결합한 하면, 선형 모형이 된다. 이를 비선형 모형으로 결합하기 위해서는 활성화 함수가 필요\n",
        "\n",
        "- 옵티마이저 : 딥러닝은 뉴런에 적용되는 최적의 가중치 값을 찾기 위해 사용,  최적의 가중치 값은 손실함수(loss function)를 최소화하는 값\n",
        "\n",
        "- 손실함수 :  손실함수는 보통 에측값과 실제값의 차이로 정의, 손실함수의 값을 최소화하는 방향으로, 딥러닝의 가중치를 학습시킴, \n",
        "\n",
        "- 배치크기 : 배치크기는 딥러닝에 학습할 때, 입력하는 데이터의 수\n",
        "\n",
        "- 에포크 : 에포크는 학습 횟수이다. 에포크가 1이면 전체 데이터를 한 번 학습한다\n",
        "\n",
        "- 학습률 : 학습률은 기울기의 반대방향으로 이동할 때, 그 학습비율을 말함\n",
        "\n",
        "- \n",
        "\n"
      ],
      "metadata": {
        "id": "RGw9p6n2gXxH"
      }
    }
  ]
}